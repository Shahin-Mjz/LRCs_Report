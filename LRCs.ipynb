{
 "cells": [
  {
   "cell_type": "markdown",
   "id": "2d631ed9-57ab-44b1-8d80-10707e44d297",
   "metadata": {},
   "source": [
    "$\\newline$\n",
    "$\\newline$\n",
    "$\\newline$\n",
    "\n",
    "\n",
    "$${\\Large{\\color{blue}{\\bf{{Locally\\;Repairable\\;Codes\\;(LRCs)}}}}}$$\n",
    "\n",
    "\n",
    "$\\newline$\n",
    "$\\newline$\n",
    "$\\newline$"
   ]
  },
  {
   "cell_type": "markdown",
   "id": "64d3947c-be67-423d-8091-2432646f6853",
   "metadata": {},
   "source": [
    "$\\newline$\n",
    "#### ${{\\bf{}\\;\\;\\color{green}{\\bf{{ABSTRACT}}}}}$\n",
    "\n",
    "  \n",
    "$\\newline$"
   ]
  },
  {
   "cell_type": "markdown",
   "id": "224ce241-98e3-4c7f-b949-767ed13d7336",
   "metadata": {},
   "source": [
    "$\\newline$\n",
    "#### $\\color{green}{\\bf{{INTRODUCTION}}}$\n",
    "\n",
    "  \n",
    "$\\newline$"
   ]
  },
  {
   "cell_type": "markdown",
   "id": "ba410c85-5b3d-4477-a28a-9a2eef99b201",
   "metadata": {},
   "source": [
    "$\\newline$\n",
    "- - ${{\\bf{}\\;\\;\\color{purple}{\\bf{{Motivation:}}}}}$\n",
    "\n",
    "  \n",
    "$\\newline$"
   ]
  },
  {
   "cell_type": "markdown",
   "id": "1a111492-ead3-4e0e-86aa-edfaa47525e8",
   "metadata": {},
   "source": [
    "$\\newline$\n",
    "$\\newline$\n",
    "\n",
    "\n",
    "${\\color{black}{\\;\\;\\;\\;\\;\\;\\;\\;\\;\\;\\;\\;\\;\\text{Distributed and cloud storage systems have reached such a massive scale that recovery from failures is now part of regular operation rather than a rare exception.  These large scale storage systems have to }}}$\n",
    "${\\color{black}{\\;\\;\\;\\;\\;\\;\\;\\;\\;\\;\\text{allow for high data availability and be able to tolerate multiple physical node failures to prevent data loss. These systems can achieve the targeted data availability and reliability requirements by introducing}}}$\n",
    "${\\color{black}{\\;\\;\\;\\;\\;\\;\\;\\;\\;\\;\\text{redundancy among the stored bits. Erasure coded storage systems achieve high reliability without requiring the increased storage cost that is associated with data replication.}}}$\n",
    "\n",
    "\n",
    "$\\newline$\n",
    "$\\newline$"
   ]
  },
  {
   "cell_type": "markdown",
   "id": "f0a1fa81-7069-45fb-b858-0255bc17ed3f",
   "metadata": {},
   "source": [
    "$\\newline$\n",
    "$\\newline$\n",
    "\n",
    "\n",
    "${\\color{black}{\\;\\;\\;\\;\\;\\;\\;\\;\\;\\;\\;\\;\\;\\;\\text{A central issue that arises in coded storage is the Repair Problem: how to maintain the encoded representation when failures (node erasures) occur. To maintain the same redundancy when a storage node leaves}}}$\n",
    "${\\color{black}{\\;\\;\\;\\;\\;\\;\\;\\;\\;\\;\\text{ the system, a newcomer node has to join the array, access some existing nodes, and exactly reproduce the lost contents. During this repair process, there are several metrics that can be optimized: the total information}}}$\n",
    "${\\color{black}{\\;\\;\\;\\;\\;\\;\\;\\;\\;\\;\\text{ read from existing disks, the total number of bits communicated in the network (called repair bandwidth), or the total number of disks required for each repair. Currently, the most well-understood metric is repair bandwidth}}}$\n",
    "\n",
    "\n",
    "$\\newline$\n",
    "$\\newline$"
   ]
  },
  {
   "cell_type": "markdown",
   "id": "b4973d89-9429-45ab-830c-fb220dd3268f",
   "metadata": {},
   "source": [
    "$\\newline$\n",
    "$\\newline$\n",
    "\n",
    "\n",
    "${\\color{black}{\\;\\;\\;\\;\\;\\;\\;\\;\\;\\;\\;\\;\\;\\;\\text{Classical codes like Reed-Solomon are highly sub-optimal for distributed environments due to their high overhead during single-failure events. Locally Repairable Codes (LRCs) form a new family of codes}}}$\n",
    "${\\color{black}{\\;\\;\\;\\;\\;\\;\\;\\;\\;\\;\\text{that are repair efficient. In particular, LRCs minimize the number of nodes participating in single-node repairs.}}}$\n",
    "\n",
    "\n",
    "$\\newline$\n",
    "$\\newline$"
   ]
  },
  {
   "cell_type": "markdown",
   "id": "c9c433c2-9bdf-46c8-bd3f-8bbda7b7ec0e",
   "metadata": {},
   "source": [
    "$\\newline$\n",
    "$\\newline$\n",
    "\n",
    "\n",
    "${\\color{black}{\\;\\;\\;\\;\\;\\;\\;\\;\\;\\;\\;\\;\\;\\;\\text{Traditional architectures of large-scale storage systems rely on distributed file systems that provide reliability through block replication. Typically, data is split into blocks and three copies of each block are}}}$\n",
    "${\\color{black}{\\;\\;\\;\\;\\;\\;\\;\\;\\;\\;\\text{stored in different storage nodes. The major disadvantage of triple replication is the large storage overhead. As the amount of stored data is growing faster than hardware infrastructure, this becomes a factor of three}}}$\n",
    "${\\color{black}{\\;\\;\\;\\;\\;\\;\\;\\;\\;\\;\\text{in the storage growth rate, resulting in a major data center cost bottleneck.}}}$\n",
    "\n",
    "\n",
    "$\\newline$\n",
    "$\\newline$"
   ]
  },
  {
   "cell_type": "markdown",
   "id": "1b15b657-0b51-4c62-9317-96450742b6da",
   "metadata": {},
   "source": [
    "$\\newline$\n",
    "- - ${{\\bf{}\\;\\;\\color{purple}{\\bf{{Challenges:}}}}}$\n",
    "\n",
    "  \n",
    "$\\newline$"
   ]
  },
  {
   "cell_type": "markdown",
   "id": "cf641cb2-126f-4bb6-8a8f-bf2ac0ffb43e",
   "metadata": {},
   "source": [
    "$\\newline$\n",
    "- - - ${\\small{\\bf{}\\;\\;\\color{blue}{\\bf{{Repair\\;Problem:}}}}}$\n",
    "      \n",
    "$\\newline$"
   ]
  },
  {
   "cell_type": "markdown",
   "id": "5e53d15d-e4a0-43a5-8483-62e1ac277eff",
   "metadata": {},
   "source": [
    "$\\newline$\n",
    "$\\newline$\n",
    "\n",
    "\n",
    "${\\color{black}{\\;\\;\\;\\;\\;\\;\\;\\;\\;\\;\\;\\;\\;\\;\\text{If a node storing encoded information fails, to maintain the same level of reliability, we need to exactly regenerate what was lost in a new node. A major open problem in this area has been the design of}}}$\n",
    "${\\color{black}{\\;\\;\\;\\;\\;\\;\\;\\;\\;\\;\\text{codes that i) admit exact and low cost repair of nodes and ii) have arbitrarily high data rates.}}}$\n",
    "\n",
    "\n",
    "$\\newline$\n",
    "$\\newline$"
   ]
  },
  {
   "cell_type": "markdown",
   "id": "df842c64-1ea4-4cd7-bc57-54312e8bc257",
   "metadata": {},
   "source": [
    "$\\newline$\n",
    "- - - ${\\small{\\bf{}\\;\\;\\color{blue}{\\bf{{BLRCs \\; (Binary \\; LRCs) \\; with \\; optimal \\; minimum \\; distance \\; (d) \\; and \\; optimal \\; code \\; rate \\; (R):}}}}}$\n",
    "      \n",
    "$\\newline$"
   ]
  },
  {
   "cell_type": "markdown",
   "id": "6f5ebbad-7327-4a8c-b172-232e383ce130",
   "metadata": {},
   "source": [
    "$\\newline$\n",
    "- - - ${\\small{\\bf{}\\;\\;\\color{blue}{\\bf{{Repair\\;Efficiency:}}}}}$\n",
    "      \n",
    "$\\newline$"
   ]
  },
  {
   "cell_type": "markdown",
   "id": "ba47afd3-eeb1-4018-91a5-8af8f8996a27",
   "metadata": {},
   "source": [
    "$\\newline$\n",
    "- - - ${\\small{\\bf{}\\;\\;\\color{blue}{\\bf{{Achieve\\;High\\;Data\\;Rates:}}}}}$\n",
    "      \n",
    "$\\newline$"
   ]
  },
  {
   "cell_type": "markdown",
   "id": "ce6e6597-4a9e-4a33-a808-3c03960ef08d",
   "metadata": {},
   "source": [
    "$\\newline$\n",
    "- - ${{\\bf{}\\;\\;\\color{purple}{\\bf{{Cost \\; Metrics:}}}}}$\n",
    "\n",
    "  \n",
    "$\\newline$"
   ]
  },
  {
   "cell_type": "markdown",
   "id": "7eee1208-3ae1-473b-bc88-b01d0644c110",
   "metadata": {},
   "source": [
    "$\\newline$\n",
    "$\\newline$\n",
    "\n",
    "\n",
    "${\\color{black}{\\;\\;\\;\\;\\;\\;\\;\\;\\;\\; i) \\text{ The number of bits communicated in the network, i.e., the repair-bandwidth}}}$\n",
    "\n",
    "\n",
    "${\\color{black}{\\;\\;\\;\\;\\;\\;\\;\\;\\;\\; ii)\\text{ The number of bits read, the disk-I/O}}}$\n",
    "\n",
    "\n",
    "${\\color{black}{\\;\\;\\;\\;\\;\\;\\;\\;\\;\\; iii) \\text{ The number of nodes that participate in the repair process, also known as, repair locality}\\;(r)}}$\n",
    "\n",
    "\n",
    "$\\newline$\n",
    "$\\newline$"
   ]
  },
  {
   "cell_type": "markdown",
   "id": "ac812eda-2957-44c7-a57d-9901029d288b",
   "metadata": {},
   "source": [
    "$\\newline$\n",
    "- - ${{\\bf{}\\;\\;\\color{purple}{\\bf{{Necessary\\;Definitions:}}}}}$\n",
    "\n",
    "  \n",
    "$\\newline$"
   ]
  },
  {
   "cell_type": "markdown",
   "id": "bd9a9b14-1e67-4da5-a9be-18cda59b75aa",
   "metadata": {},
   "source": [
    "$\\newline$\n",
    "$\\newline$\n",
    "\n",
    "\n",
    "${\\color{black}{\\;\\;\\;\\;\\;\\;\\;\\;\\;\\; M: \\text{file size}}}$\n",
    "\n",
    "\n",
    "${\\color{black}{\\;\\;\\;\\;\\;\\;\\;\\;\\;\\; r:\\text{ repair locality}}}$\n",
    "\n",
    "\n",
    "${\\color{black}{\\;\\;\\;\\;\\;\\;\\;\\;\\;\\; d: \\text{ minimum distance of a code}}}$\n",
    "\n",
    "\n",
    "${\\color{black}{\\;\\;\\;\\;\\;\\;\\;\\;\\;\\; (n, k, r, d, \\alpha)\\text{-LRC: An LRC code with } n,\\;k,\\;r,\\;d \\text{ parameters}}}$\n",
    "\n",
    "\n",
    "${\\color{black}{\\;\\;\\;\\;\\;\\;\\;\\;\\;\\; \\alpha: \\text{ Entropy of each encoded element (bit size for each encoded symbol)}}}$\n",
    "\n",
    "\n",
    "$\\newline$\n",
    "$\\newline$"
   ]
  },
  {
   "cell_type": "markdown",
   "id": "9e6fe270-ecb1-4cbc-a2a3-c31a106ba73d",
   "metadata": {},
   "source": [
    "$\\newline$\n",
    "#### $\\color{green}{\\bf{{LRC\\;CODES}}}$\n",
    "\n",
    "  \n",
    "$\\newline$"
   ]
  },
  {
   "cell_type": "markdown",
   "id": "937a439b-1ef1-47b2-a9ac-73725eb5e0ea",
   "metadata": {},
   "source": [
    "$\\newline$\n",
    "- - ${{\\;\\;\\color{purple}{{\\bf{Relationship \\; between \\; F_{q} \\; (field \\; size) \\; and \\; known \\; optimal \\; }}{(n, \\; k, \\; r)}{\\bf{\\text{-}LRC \\; codes:}}}}}$\n",
    "\n",
    "  \n",
    "$\\newline$"
   ]
  },
  {
   "cell_type": "markdown",
   "id": "b9a882d1-b67a-424a-991b-3379602303b4",
   "metadata": {},
   "source": [
    "$\\newline$\n",
    "$\\newline$\n",
    "\n",
    "\n",
    "|Construction year|Constraints on the parameters|Field size|\n",
    "|:----:|:----:|:----:|\n",
    "|**2012**|$n \\; = \\; [\\frac{k}{r}] \\; (r+1)$|$q \\; \\geq \\; n$|\n",
    "|**2014**|$(r+1) \\; | \\; n$|$q \\; \\geq \\; 2^{\\frac{n \\cdot r}{r+1}}$|\n",
    "|**2013**|$(r+1) \\; | \\; n$|$q \\; \\geq \\; n$|\n",
    "|**2016**|$(r+1) \\; | \\; n$|$q \\; \\geq \\; (\\frac{n \\cdot r}{r+1})^{k+1}$|\n",
    "\n",
    "\n",
    "$\\newline$\n",
    "$\\newline$"
   ]
  },
  {
   "cell_type": "markdown",
   "id": "cdde3b20-320d-4b36-997d-77eb8a6ba05e",
   "metadata": {},
   "source": [
    "$\\newline$\n",
    "- - ${{\\bf{}\\;\\;\\color{purple}{\\bf{{Definition:}}}}}$\n",
    "\n",
    "  \n",
    "$\\newline$"
   ]
  },
  {
   "cell_type": "markdown",
   "id": "5a8d3f33-7fcb-4abb-94f8-99729efc1404",
   "metadata": {},
   "source": [
    "$\\newline$\n",
    "$\\newline$\n",
    "\n",
    "\n",
    "${\\color{black}{\\;\\;\\;\\;\\;\\;\\;\\;\\;\\;\\;\\;\\;\\;\\text{An }(n, k, r)\\text{-(LRC) is a code of length }n\\text{, that takes as input }k\\text{ information symbols, such that any of its }n\\text{ output coded symbols can be recovered by accessing and processing at most }r\\text{ other symbols}}}$\n",
    "\n",
    "\n",
    "$\\color{black}{\\;\\;\\;\\;\\;\\;\\;\\;\\;\\;\\text{(i.e., an LRC has all-symbol locality). Codes with all-symbol locality that meet the above distance bound are termed optimal LRCs and are known to exist when }(r + 1) \\text{ divides }n\\text{ some works extend the designs}}$\n",
    "\n",
    "\n",
    "$\\color{black}{\\;\\;\\;\\;\\;\\;\\;\\;\\;\\;\\text{and theoretic bounds to the case where repair bandwidth and locality are jointly optimized during multiple local failures, and designing LRCs with optimal distance for all code parameters }n,\\;k,\\;r\\text{ that are suitable}}$\n",
    "\n",
    "\n",
    "$\\color{black}{\\;\\;\\;\\;\\;\\;\\;\\;\\;\\;\\text{for deployment in distributed storage clusters is currently an active research area.}}$\n",
    "\n",
    "\n",
    "\n",
    "$\\newline$\n",
    "$\\newline$"
   ]
  },
  {
   "cell_type": "markdown",
   "id": "24e7dc43-5db2-4496-bba7-1b73d3525583",
   "metadata": {},
   "source": [
    "$\\newline$\n",
    "- - - ${{\\bf{}\\;\\;\\color{blue}{\\bf{{Explainations:}}}}}$\n",
    "      \n",
    "$\\newline$"
   ]
  },
  {
   "cell_type": "markdown",
   "id": "e3acf832-f155-479d-a72c-a1bbd50933df",
   "metadata": {},
   "source": [
    "$\\newline$\n",
    "$\\newline$\n",
    "\n",
    "\n",
    "${\\color{black}{\\;\\;\\;\\;\\;\\;\\;\\;\\;\\;\\;\\;\\;\\;\\text{We start with an }(m \\; = \\; n \\cdot \\frac{r}{r+1}, \\; k)\\text{-Reed-Solomon code. We then re-encode the }m\\text{ Reed-Solomon coded symbols in the following manner: divide the }m\\text{ symbols, into }\\frac{m}{r}\\text{ groups of }r\\text{ symbols, so that the groups}}}$\n",
    "\n",
    "\n",
    "$\\color{black}{\\;\\;\\;\\;\\;\\;\\;\\;\\;\\;\\text{do not overlap. We then re-encode each group using a specific }(r+1, \\; r)\\text{ MDS code. The }n\\text{ outputs of the }\\frac{m}{r}\\text{ local codes are the encoded symbols of LRC. It should not be hard to see that the locality }r\\text{ can be trivially}}$\n",
    "\n",
    "\n",
    "$\\color{black}{\\;\\;\\;\\;\\;\\;\\;\\;\\;\\;\\text{obtained by the local codes: if a symbol is missing the remaining }r\\text{ coded symbols in its group can be used to reconstruct it; this is a property of the MDS local code. Although the code as presented in this figure is not in}}$\n",
    "\n",
    "\n",
    "$\\color{black}{\\;\\;\\;\\;\\;\\;\\;\\;\\;\\;\\text{systematic form, it can be easily done so by a linear transformation applied on the generator matrix.}}$\n",
    "\n",
    "\n",
    "$\\newline$\n",
    "$\\newline$"
   ]
  },
  {
   "cell_type": "markdown",
   "id": "95f71db6-d683-4237-95c5-4ffdc2e40ebb",
   "metadata": {},
   "source": [
    "$\\newline$\n",
    "- - ${{\\bf{}\\;\\;\\color{purple}{\\bf{{Theorems \\; without \\; proving:}}}}}$\n",
    "\n",
    "  \n",
    "$\\newline$"
   ]
  },
  {
   "cell_type": "markdown",
   "id": "285e0680-9a44-4255-a079-e2810cb0544c",
   "metadata": {},
   "source": [
    "$\\newline$\n",
    "- - - ${{\\bf{}\\;\\;\\color{blue}{\\bf{{Theorem\n",
    "\\;1:}}}}}$\n",
    "      \n",
    "$\\newline$"
   ]
  },
  {
   "cell_type": "markdown",
   "id": "242f3dca-9189-448a-8ee9-3a9935a7650f",
   "metadata": {},
   "source": [
    "$\\newline$\n",
    "$\\newline$\n",
    "\n",
    "\n",
    "$\\color{black}{\\;\\;\\;\\;\\;\\;\\;\\;\\;\\;\\;\\;\\;\\; \\text{An }C(n, M, r, d, \\alpha)\\text{ we will have:}}$\n",
    "\n",
    "\n",
    "<center>$\\color{black}{d\\;\\leq\\;n\\;-\\;[ \\frac{M}{\\alpha} ]\\;-[ \\frac{M}{r\\alpha} ]\\;+\\;2}$</center>\n",
    "\n",
    "\n",
    "$\\newline$\n",
    "$\\newline$\n",
    "\n",
    "\n",
    "<center>$\\text{If} \\; M\\;=\\;k,\\;\\alpha \\; = \\; 1 \\; \\Rightarrow \\; \\color{black}{d\\;\\leq\\;n\\;-\\;k\\;-[ \\frac{k}{r} ]\\;+\\;2}$</center>\n",
    "\n",
    "$\\newline$\n",
    "$\\newline$"
   ]
  },
  {
   "cell_type": "markdown",
   "id": "bed4c176-3abd-4a8b-b864-086840b4ad4c",
   "metadata": {},
   "source": [
    "$\\newline$\n",
    "- - - ${{\\bf{}\\;\\;\\color{blue}{\\bf{{Theorem\n",
    "\\;2:}}}}}$\n",
    "      \n",
    "$\\newline$"
   ]
  },
  {
   "cell_type": "markdown",
   "id": "c590736a-a54a-4f6e-8cdc-3da0b3e64968",
   "metadata": {},
   "source": [
    "$\\newline$\n",
    "$\\newline$\n",
    "\n",
    "\n",
    "$\\color{black}{\\;\\;\\;\\;\\;\\;\\;\\;\\;\\;\\;\\;\\;\\; \\text{Achievability of the Distance Bound When }{(r + 1)}\\text{ Divides }{n:}}$\n",
    "\n",
    "\n",
    "$\\color{black}{\\;\\;\\;\\;\\;\\;\\;\\;\\;\\; \\text{Let }{(r + 1)|n}\\text{ and }{r \\leq n − d}\\text{. Then, there exist }{(n, M, r, d, \\alpha)}\\text{-LRCs with minimum code distance.}}$\n",
    "\n",
    "\n",
    "$\\color{black}{\\;\\;\\;\\;\\;\\;\\;\\;\\;\\; \\text{For a code }C(n, M, r, d, \\alpha)\\text{ we will have:}}$\n",
    "\n",
    "\n",
    "<center>$\\color{black}{\\;\\;\\;\\;\\;\\;\\;\\;\\;\\; d\\;=\\;n\\;-\\;[ \\frac{M}{\\alpha} ]\\;-[ \\frac{M}{r\\alpha} ]\\;+\\;2}$</center>\n",
    "\n",
    "\n",
    "\n",
    "\n",
    "$\\newline$\n",
    "$\\newline$\n",
    "\n",
    "\n",
    "<center>$\\text{If } M\\;=\\;k,\\;\\alpha \\; = \\; 1 \\; \\Rightarrow \\; \\color{black}{d\\; = \\;n\\;-\\;k\\;-[ \\frac{k}{r} ]\\;+\\;2}$</center>\n",
    "\n",
    "\n",
    "\n",
    "$\\newline$\n",
    "$\\newline$"
   ]
  },
  {
   "cell_type": "markdown",
   "id": "8d044bfb-5e9e-479b-b8aa-3058ec6d5a64",
   "metadata": {},
   "source": [
    "$\\newline$\n",
    "- - ${{\\bf{}\\;\\;\\color{purple}{\\bf{{Figure\\;1:}}}}}$\n",
    "\n",
    "  \n",
    "$\\newline$"
   ]
  },
  {
   "cell_type": "markdown",
   "id": "bae43b6e-d2ab-4e1f-8d65-e81ab2c75be4",
   "metadata": {},
   "source": [
    "$\\newline$\n",
    "$\\newline$\n",
    "$\\newline$\n",
    "$\\newline$\n",
    "\n",
    "\n",
    "<center><img src='1.png' width=600 height=800></center>\n",
    "\n",
    "\n",
    "$\\newline$\n",
    "\n",
    "\n",
    "$${\\color{black}{{\\bf{Fig.\\;1: \\;}}\\color{black}{\\underline{{\\small{\\text{General flow graph}\\;}}}}}}$$\n",
    "\n",
    "\n",
    "$\\newline$\n",
    "$\\newline$"
   ]
  },
  {
   "cell_type": "markdown",
   "id": "a87e3d96-7083-4a6e-bc3e-e6c6d41ca2d0",
   "metadata": {},
   "source": [
    "$\\newline$\n",
    "- - - ${{\\bf{}\\;\\;\\color{blue}{\\bf{{Explainations:}}}}}$\n",
    "      \n",
    "$\\newline$"
   ]
  },
  {
   "cell_type": "markdown",
   "id": "870d01e2-0b0a-464c-a136-12610abd140f",
   "metadata": {},
   "source": [
    "$\\newline$\n",
    "$\\newline$\n",
    "\n",
    "\n",
    "${\\color{black}{\\;\\;\\;\\;\\;\\;\\;\\;\\;\\;\\;\\;\\;\\;\\;\\text{We sketch the directed acyclic information flow graph }G(n, k, r, d, \\alpha).\\text{ The black vertices correpond to the k sources, each of which has entropy }\\frac{M}{k}.\\text{ The }\\frac{n}{r\\;+\\;1}\\text{ white vertices correspond to nodes that bottleneck}}}$\n",
    "\n",
    "\n",
    "$\\color{black}{\\;\\;\\;\\;\\;\\;\\;\\;\\;\\;\\text{ the in-flow within a repair group. The blue vertices correspond to the n nodes, or coded elements, and the yellow vertices are the DCs (sinks) of the network.}}$\n",
    "\n",
    "\n",
    "$\\newline$\n",
    "$\\newline$"
   ]
  },
  {
   "cell_type": "markdown",
   "id": "5c827781-a026-48ed-92df-66f146b704a9",
   "metadata": {},
   "source": [
    "$\\newline$\n",
    "- - ${{\\bf{}\\;\\;\\color{purple}{\\bf{{Figure\\;2:}}}}}$\n",
    "\n",
    "  \n",
    "$\\newline$"
   ]
  },
  {
   "cell_type": "markdown",
   "id": "34590a56-5eaf-45e5-99c2-ede8e182e94c",
   "metadata": {},
   "source": [
    "$\\newline$\n",
    "$\\newline$\n",
    "$\\newline$\n",
    "$\\newline$\n",
    "\n",
    "\n",
    "<center><img src='2.png' width=600 height=800></center>\n",
    "\n",
    "\n",
    "$\\newline$\n",
    "\n",
    "\n",
    "$${\\color{black}{{\\bf{Fig.\\;2: \\;}}\\color{black}{\\underline{{\\small{\\text{Flow bottlenecks}\\;}}}}}}$$\n",
    "\n",
    "\n",
    "$\\newline$\n",
    "$\\newline$"
   ]
  },
  {
   "cell_type": "markdown",
   "id": "cf71d3ca-0b8f-47ee-be5b-07da61e7f1c1",
   "metadata": {},
   "source": [
    "$\\newline$\n",
    "- - - ${{\\bf{}\\;\\;\\color{blue}{\\bf{{Explainations:}}}}}$\n",
    "      \n",
    "$\\newline$"
   ]
  },
  {
   "cell_type": "markdown",
   "id": "5aebe571-90fa-4307-b6e0-5bdc4b40727f",
   "metadata": {},
   "source": [
    "$\\newline$\n",
    "$\\newline$\n",
    "\n",
    "\n",
    "${\\color{black}{\\;\\;\\;\\;\\;\\;\\;\\;\\;\\;\\;\\;\\;\\;\\text{When an element is lost, a new node can join the system and download everything from the remaining nodes in its group. In Fig. 2, we show the part of the flow graph that enforces the “bottleneck” induced }}}$\n",
    "\n",
    "\n",
    "$\\color{black}{\\;\\;\\;\\;\\;\\;\\;\\;\\;\\;\\text{by a repair group, where we consider the first group, without loss of generality. For a group }\\Gamma(i)\\text{, }i ∈ [\\frac{n}{r\\;+\\;1}]\\text{, we add node }\\Gamma_{i}^{in}\\text{ that receives}}$\n",
    "\n",
    "\n",
    "\n",
    "$\\newline$\n",
    "$\\newline$"
   ]
  },
  {
   "cell_type": "markdown",
   "id": "4ebed6ae-60a5-483a-a29d-2df77f589cdc",
   "metadata": {},
   "source": [
    "$\\newline$\n",
    "$\\newline$\n",
    "\n",
    "\n",
    "${\\color{black}{\\;\\;\\;\\;\\;\\;\\;\\;\\;\\;\\;\\;\\;\\text{Flow from the sources and is connected with an edge of capacity rα to a new node }\\Gamma_{i}^{out}\\text{. The latter connects to the }r+1\\text{ elements of the }i\\text{-th group. We should note that when we are considering a specific group,}}}$\n",
    "\n",
    "\n",
    "$\\color{black}{\\;\\;\\;\\;\\;\\;\\;\\;\\;\\;\\text{ it is implied that any block within that group can be repaired from the remaining }r\\text{ elements. When a block is lost, the functional dependence among the elements of that group allows a newcomer block to compute}}$\n",
    "\n",
    "\n",
    "$\\color{black}{\\;\\;\\;\\;\\;\\;\\;\\;\\;\\;\\text{ a function on the remaining }r\\text{ elements and reconstruct what was lost.}}$\n",
    "\n",
    "\n",
    "\n",
    "\n",
    "$\\newline$\n",
    "$\\newline$"
   ]
  },
  {
   "cell_type": "markdown",
   "id": "07224d20-b796-44b0-bb23-2dc599d4cc23",
   "metadata": {},
   "source": [
    "$\\newline$\n",
    "$\\newline$\n",
    "\n",
    "\n",
    "${\\color{black}{\\;\\;\\;\\;\\;\\;\\;\\;\\;\\;\\;\\;\\;\\;\\text{Linear combinations of the file elements travel along the edges of this graph towards the sinks, which we call Data Collectors (DCs). A DC needs to connect to as many coded elements as such that it can reconstruct}}}$\n",
    "\n",
    "\n",
    "$\\color{black}{\\;\\;\\;\\;\\;\\;\\;\\;\\;\\;\\text{ the file. This is equivalent to requiring source-to-sink }(s - t)\\text{ cuts between the file elements and the DCs that are at least equal to }M\\text{, i.e., the file size. An }s − t\\text{ cut in }G(n,\\;k,\\;r,\\;d,\\;\\alpha)\\text{ determines the amount of flow,}}$\n",
    "\n",
    "\n",
    "$\\color{black}{\\;\\;\\;\\;\\;\\;\\;\\;\\;\\;\\text{ or entropy, that can travel from the source elements to the destinations. }\\text{then the minimum of all the cuts is at least as much as the file size }M.}$\n",
    "\n",
    "\n",
    "\n",
    "\n",
    "$\\newline$\n",
    "$\\newline$"
   ]
  },
  {
   "cell_type": "markdown",
   "id": "3e38d384-2c1e-449d-85ce-6bb92384e10f",
   "metadata": {},
   "source": [
    "$\\newline$\n",
    "- - ${{\\bf{}\\;\\;\\color{purple}{\\bf{{Code\\;Construction:}}}}}$\n",
    "      \n",
    "$\\newline$"
   ]
  },
  {
   "cell_type": "markdown",
   "id": "28172ada-2872-4547-bd14-7d62e26f935d",
   "metadata": {},
   "source": [
    "$\\newline$\n",
    "$\\newline$\n",
    "\n",
    "\n",
    "${\\color{black}{\\;\\;\\;\\;\\;\\;\\;\\;\\;\\;\\;\\;\\;\\;\\text{Below we state the circular placement of elements in nodes of the first }(r+1)\\text{-group}}}$\n",
    "\n",
    "\n",
    "$\\newline$\n",
    "$\\newline$"
   ]
  },
  {
   "cell_type": "markdown",
   "id": "c20e1210-e277-4f54-b714-1c8b6a957306",
   "metadata": {},
   "source": [
    "$\\newline$\n",
    "$\\newline$\n",
    "\n",
    "\n",
    "|Blocks|node 1|node 2|$\\bf{\\dots}$|node r|node r+1|\n",
    "|:----:|:----:|:----:|:-:|:----:|:------:|\n",
    "|blocks of $\\bf{y^{(1)}}$|$\\color{lightblue}{y_{1}^{(1)}}$|$\\color{lightblue}{y_{2}^{(1)}}$|$\\bf{\\dots}$|$\\color{lightblue}{y_{r}^{(1)}}$|$\\color{lightblue}{y_{r+1}^{(1)}}$|\n",
    "|blocks of $\\bf{y^{(2)}}$|$\\color{red}{y_{2}^{(2)}}$|$\\color{red}{y_{3}^{(2)}}$|$\\bf{\\dots}$|$\\color{red}{y_{r+1}^{(2)}}$|$\\color{red}{y_{1}^{(2)}}$|\n",
    "|$\\bf{\\vdots}$|$\\bf{\\vdots}$|$\\bf{\\vdots}$|$\\bf{\\vdots}$|$\\bf{\\vdots}$|$\\bf{\\vdots}$|\n",
    "|blocks of $\\bf{y^{(r)}}$|$\\color{blue}{y_{r}^{(r)}}$|$\\color{blue}{y_{r+1}^{(r)}}$|$\\bf{\\dots}$|$\\color{blue}{y_{r-2}^{(r)}}$|$\\color{blue}{y_{r-1}^{(r)}}$|\n",
    "|blocks of $\\bf{s}$|$\\color{black}{s_{r+1}}$|$\\color{black}{s_{1}}$|$\\bf{\\dots}$|$\\color{black}{s_{r-1}}$|$\\color{black}{s_{r}}$|\n",
    "\n",
    "$\\newline$\n",
    "$\\newline$"
   ]
  },
  {
   "cell_type": "markdown",
   "id": "a8edb34d-0609-4ef3-ad44-5e3eb0964fe7",
   "metadata": {},
   "source": [
    "$\\newline$\n",
    "- - - ${{\\bf{}\\;\\;\\color{blue}{\\bf{{Explainations:}}}}}$\n",
    "      \n",
    "$\\newline$"
   ]
  },
  {
   "cell_type": "markdown",
   "id": "0caf679b-5899-457d-9725-53670c95656f",
   "metadata": {},
   "source": [
    "$\\newline$\n",
    "$\\newline$\n",
    "\n",
    "\n",
    "${\\color{black}{\\;\\;\\;\\;\\;\\;\\;\\;\\;\\;\\;\\;\\;\\;\\text{There are three key properties that are obeyed by our placement:}}}$\n",
    "\n",
    "\n",
    "$\\newline$\n",
    "$\\newline$\n",
    "\n",
    "\n",
    "$\\color{black}{\\;\\;\\;\\;\\;\\;\\;\\;\\;\\;i)\\text{ Each node contains r coded blocks coming from different }\\bf{y}^{(l)}\\text{ coded vectors and 1 additional parity element.}}$\n",
    "\n",
    "\n",
    "$\\color{black}{\\;\\;\\;\\;\\;\\;\\;\\;\\;\\;ii)\\text{ The blocks in the }r+1\\text{ nodes of the }i\\text{-th }(r+1)\\text{-group, have indices that appear only in that specific repair group, }i ∈ [\\frac{n}{r+1}].}$\n",
    "\n",
    "\n",
    "$\\color{black}{\\;\\;\\;\\;\\;\\;\\;\\;\\;\\;iii)\\text{ The blocks of each “row” have indices that obey a circular pattern, i.e., the first row of elements has indices }\\{1,\\;2,\\;\\dots,r+1\\}\\text{ the second }\\{2,\\;3,\\;\\dots, \\;r+1, \\;1\\}\\text{, and so on.}}$\n",
    "\n",
    "\n",
    "\n",
    "\n",
    "$\\newline$\n",
    "$\\newline$"
   ]
  },
  {
   "cell_type": "markdown",
   "id": "70c89f5d-8f9d-4960-ba46-99a278c23374",
   "metadata": {},
   "source": [
    "$\\newline$\n",
    "- - ${{\\bf{}\\;\\;\\color{purple}{\\bf{{Figure\\;3:}}}}}$\n",
    "\n",
    "  \n",
    "$\\newline$"
   ]
  },
  {
   "cell_type": "markdown",
   "id": "a4ac6989-972d-43dd-9e5b-9bd4ae950602",
   "metadata": {},
   "source": [
    "$\\newline$\n",
    "$\\newline$\n",
    "$\\newline$\n",
    "$\\newline$\n",
    "\n",
    "\n",
    "<center><img src='3.png' width=600 height=800></center>\n",
    "\n",
    "\n",
    "$\\newline$\n",
    "\n",
    "\n",
    "$${\\color{black}{{\\bf{Fig.\\;3: \\;}}\\color{black}{\\underline{{\\small{\\text{A (6, 4)-LRC with locality 2}\\;}}}}}}$$\n",
    "\n",
    "\n",
    "$\\newline$\n",
    "$\\newline$"
   ]
  },
  {
   "cell_type": "markdown",
   "id": "4adeb2bc-506d-4adc-a783-e76ff3e83e62",
   "metadata": {},
   "source": [
    "$\\newline$\n",
    "- - - ${{\\bf{}\\;\\;\\color{blue}{\\bf{{Explainations:}}}}}$\n",
    "      \n",
    "$\\newline$"
   ]
  },
  {
   "cell_type": "markdown",
   "id": "d1cfeaf2-0d9d-4c1c-b394-38de09e55cfd",
   "metadata": {},
   "source": [
    "$\\newline$\n",
    "$\\newline$\n",
    "\n",
    "\n",
    "\n",
    "${\\color{black}{\\;\\;\\;\\;\\;\\;\\;\\;\\;\\;\\;\\;\\;\\;\\text{We follow the same placement for all }\\frac{n}{r+1} \\text{ groups. In Fig. 3, we show an LRC of the above construction with }n\\text{ = 6 and }k\\text{ = 4 that has locality 2.}}}$\n",
    "\n",
    "\n",
    "$\\color{black}{\\;\\;\\;\\;\\;\\;\\;\\;\\;\\;\\text{A (6, 4)-LRC with locality 2. Observe that we spent 3 blocks per coded element, instead of }\\frac{M}{k} \\text{ = 2. This allows us to have easy and repairability with locality 2. The distance of this code is guaranteed}}$\n",
    "\n",
    "\n",
    "$\\color{black}{\\;\\;\\;\\;\\;\\;\\;\\;\\;\\;\\text{through the 2 (6, 4)-MDS pre-codes.}}$\n",
    "\n",
    "\n",
    "$\\newline$\n",
    "$\\newline$"
   ]
  },
  {
   "cell_type": "markdown",
   "id": "e667b0a4-351f-4691-8920-d373defd87e2",
   "metadata": {},
   "source": [
    "$\\newline$\n",
    "- - - ${{\\bf{}\\;\\;\\color{blue}{\\bf{{Repairing\\;Lost\\;Nodes:}}}}}$\n",
    "      \n",
    "$\\newline$"
   ]
  },
  {
   "cell_type": "markdown",
   "id": "afeca538-3ba2-4be7-93bd-b8281f0dd70a",
   "metadata": {},
   "source": [
    "$\\newline$\n",
    "$\\newline$\n",
    "\n",
    "\n",
    "$\\color{black}{\\;\\;\\;\\;\\;\\;\\;\\;\\;\\;\\;\\;\\;\\text{We will concentrate on the repair of lost nodes in the first repair group of r nodes. This is sufficient since the block placement is identical across repair groups. The key observation is that each node within}}$\n",
    "\n",
    "\n",
    "$\\color{black}{\\;\\;\\;\\;\\;\\;\\;\\;\\;\\;\\text{a repair group stores }r+1\\text{ blocks of distinct indices: the }r+1\\text{ blocks of a particular index are stored in }r+1\\text{ distinct nodes within the repair group. Hence, when for example the first node fails, then element}}$\n",
    "\n",
    "\n",
    "$\\color{black}{\\;\\;\\;\\;\\;\\;\\;\\;\\;\\;{\\bf{y}}^{(1)}_{1}\\text{ is regenerated by downloading }{\\bf{s}}_{1}\\text{ from the second node in the group, }{\\bf{y}}^{(r+1)}_{1}\\text{ from the third, }\\dots\\text{, and }{\\bf{y}}^{(2)}_{1}\\text{ from the last node in the group. A simple XOR of the above blocks suffices to reconstruct the lost}}$\n",
    "\n",
    "\n",
    "$\\color{black}{\\;\\;\\;\\;\\;\\;\\;\\;\\;\\;\\text{ block. Hence, for every lost block of a failed node, the }r \\text{ remaining blocks of the same index that are stored in the }r\\text{ remaining nodes of the repair group have to be XORed to regenerate what was lost.}}$\n",
    "\n",
    "\n",
    "$\\newline$\n",
    "$\\newline$"
   ]
  },
  {
   "cell_type": "markdown",
   "id": "c67ddc16-2b43-4d22-8b25-1ffa6c4fa4a0",
   "metadata": {},
   "source": [
    "$\\newline$\n",
    "- - ${{\\bf{}\\;\\;\\color{purple}{\\bf{{Figure\\;4:}}}}}$\n",
    "\n",
    "  \n",
    "$\\newline$"
   ]
  },
  {
   "cell_type": "markdown",
   "id": "a0919650-281d-4cd9-bcfb-506f284a9635",
   "metadata": {},
   "source": [
    "$\\newline$\n",
    "$\\newline$\n",
    "$\\newline$\n",
    "$\\newline$\n",
    "\n",
    "\n",
    "<center><img src='4.png' width=600 height=800></center>\n",
    "\n",
    "\n",
    "$\\newline$\n",
    "\n",
    "\n",
    "$${\\color{black}{{\\bf{Fig.\\;4: \\;}}\\color{black}{\\underline{{\\small{\\text{The repair of a node failure}\\;}}}}}}$$\n",
    "\n",
    "\n",
    "$\\newline$\n",
    "$\\newline$"
   ]
  },
  {
   "cell_type": "markdown",
   "id": "0a4fc5e1-f481-40a4-8063-a0ae63ecab5a",
   "metadata": {},
   "source": [
    "$\\newline$\n",
    "- - - ${{\\bf{}\\;\\;\\color{blue}{\\bf{{Explainations:}}}}}$\n",
    "      \n",
    "$\\newline$"
   ]
  },
  {
   "cell_type": "markdown",
   "id": "e4f1cf4d-cac0-415f-8b49-a220e3583f78",
   "metadata": {},
   "source": [
    "$\\newline$\n",
    "$\\newline$\n",
    "\n",
    "\n",
    "$\\color{black}{\\;\\;\\;\\;\\;\\;\\;\\;\\;\\;\\;\\;\\;\\text{The repair locality is 2 since 2 remaining nodes are involved in reconstructing the lost information of the first node, or the first coded element. Observe that we repair by only transferring blocks: no block}}$\n",
    "\n",
    "\n",
    "$\\color{black}{\\;\\;\\;\\;\\;\\;\\;\\;\\;\\;\\text{combinations are need to be performed at the sender nodes. }}$\n",
    "\n",
    "\n",
    "$\\newline$\n",
    "$\\newline$"
   ]
  },
  {
   "cell_type": "markdown",
   "id": "4ad652d5-c88f-4d38-8a2b-db6d594a9d22",
   "metadata": {},
   "source": [
    "$\\newline$\n",
    "- - - ${{\\bf{}\\;\\;\\color{blue}{\\bf{{Rate\\;and\\;Code\\;Distance:}}}}}$\n",
    "      \n",
    "$\\newline$"
   ]
  },
  {
   "cell_type": "markdown",
   "id": "7161cb79-e20b-45ee-b79e-1a2b3365218e",
   "metadata": {},
   "source": [
    "$\\newline$\n",
    "$\\newline$\n",
    "\n",
    "\n",
    "$\\color{black}{\\;\\;\\;\\;\\;\\;\\;\\;\\;\\;\\;\\;\\;\\text{The effective coding rate of the codes and distance of them will be}}$\n",
    "\n",
    "\n",
    "<center>$\\color{black}{\\;\\;\\;\\;\\;\\;\\;\\;\\;\\;d\\;=\\;n\\;-\\;k\\;+\\;1}$</center>\n",
    "\n",
    "\n",
    "$\\color{black}{\\;\\;\\;\\;\\;\\;\\;\\;\\;\\;\\text{}}$\n",
    "$\\color{black}{\\;\\;\\;\\;\\;\\;\\;\\;\\;\\;\\text{}}$\n",
    "\n",
    "\n",
    "<center>$\\color{black}{\\;\\;\\;\\;\\;\\;\\;\\;\\;\\;R\\;=\\;\\frac{\\text{size of useful information}}{\\text{total storage spent}}\\;=\\;\\frac{M}{n\\cdot\\alpha}\\;=\\;\\frac{r \\cdot k}{(r+1) \\cdot n}}$</center>\n",
    "\n",
    "\n",
    "\n",
    "$\\color{black}{\\;\\;\\;\\;\\;\\;\\;\\;\\;\\;\\text{}}$\n",
    "$\\color{black}{\\;\\;\\;\\;\\;\\;\\;\\;\\;\\;\\text{}}$\n",
    "\n",
    "\n",
    "\n",
    "\n",
    "$\\color{black}{\\;\\;\\;\\;\\;\\;\\;\\;\\;\\;\\text{That is, the rate of the code is a fraction }\\frac{r}{r+1}\\text{ of the coding rate of an (n, k) MDS code, hence is always upper bounded by }\\frac{r}{r+1}.\\text{ This is due to the extra storage overhead required to store the parity blocks }s_{i},\\;i\\;∈\\;[n]. }$\n",
    "\n",
    "\n",
    "\n",
    "\n",
    "$\\color{black}{\\;\\;\\;\\;\\;\\;\\;\\;\\;\\;\\text{}}$\n",
    "$\\newline$\n",
    "$\\newline$"
   ]
  },
  {
   "cell_type": "markdown",
   "id": "5bde7791-0cb8-4f5c-b26c-d85d265877f1",
   "metadata": {},
   "source": [
    "$\\newline$\n",
    "- - ${{\\bf{}\\;\\;\\color{purple}{\\bf{{One \\; of \\; the \\; Construction \\; Methods:}}}}}$\n",
    "\n",
    "  \n",
    "$\\newline$"
   ]
  },
  {
   "cell_type": "markdown",
   "id": "34cffbdd-d288-438e-b40e-32508b790f23",
   "metadata": {},
   "source": [
    "$\\newline$\n",
    "$\\newline$\n",
    "\n",
    "\n",
    "$\\color{black}{\\;\\;\\;\\;\\;\\;\\;\\;\\;\\;\\;\\;\\;\\;\\;\\;\\;\\text{In this section we present a simple construction of an optimal }(n, \\; k, \\; r)\\text{ LRC, assuming that }(r + 1)|n\\text{: Let }m = n \\cdot \\frac{r}{r+1}\\text{ and assume that }1 < r < k}$\n",
    "\n",
    "\n",
    "$\\newline$\n",
    "$\\newline$"
   ]
  },
  {
   "cell_type": "markdown",
   "id": "2bf93805-f99c-4a07-b26a-3f94ae5a752e",
   "metadata": {},
   "source": [
    "$\\newline$\n",
    "$\\newline$\n",
    "\n",
    "\n",
    "$\\color{black}{\\;\\;\\;\\;\\;\\;\\;\\;\\;\\;\\;\\;\\;\\;\\;\\;\\;\\text{In this construction method, we take the output of an }(m, \\; k)\\text{-Reed-Solomon (RS) code, divide it into }\\frac{m}{r}\\text{ non-overlapping groups, each consisting of }r\\text{ coded symbols, then we re-encode the symbols of each group into }r + 1}$\n",
    "\n",
    "\n",
    "$\\color{black}{\\;\\;\\;\\;\\;\\;\\;\\;\\;\\;\\;\\;\\;\\text{new symbols using a specific }(r + 1, \\; r)\\text{-MDS code. We refer to this }(r + 1, \\; r)\\text{-MDS code as a local code. The aforementioned construction will be shown to have }i)\\text{ the desired locality }r\\text{ and }ii)\\text{ optimal minimum}}$\n",
    "\n",
    "\n",
    "$\\color{black}{\\;\\;\\;\\;\\;\\;\\;\\;\\;\\;\\;\\;\\;\\text{distance. In Fig. 5, we give a sketch of the construction.}}$\n",
    "\n",
    "\n",
    "\n",
    "\n",
    "$\\newline$\n",
    "$\\newline$"
   ]
  },
  {
   "cell_type": "markdown",
   "id": "3122d46a-ac04-4c53-b615-11e8e789c04d",
   "metadata": {},
   "source": [
    "$\\newline$\n",
    "- - ${{\\bf{}\\;\\;\\color{purple}{\\bf{{Figure\\;5:}}}}}$\n",
    "\n",
    "  \n",
    "$\\newline$"
   ]
  },
  {
   "cell_type": "markdown",
   "id": "0c032077-ddb9-4f6b-8718-377073024dfa",
   "metadata": {},
   "source": [
    "$\\newline$\n",
    "$\\newline$\n",
    "$\\newline$\n",
    "$\\newline$\n",
    "\n",
    "\n",
    "<center><img src='5.png' width=600 height=800></center>\n",
    "\n",
    "\n",
    "$\\newline$\n",
    "\n",
    "\n",
    "$${\\color{black}{{\\bf{Fig.\\;5: \\;}}\\color{black}{\\underline{{\\small{\\text{A sketch of }(n, k, r) \\text{-LRC construction}\\;}}}}}}$$\n",
    "\n",
    "\n",
    "$\\newline$\n",
    "$\\newline$"
   ]
  },
  {
   "cell_type": "markdown",
   "id": "3f8c95d5-1aeb-4b1c-a864-0f394594a372",
   "metadata": {},
   "source": [
    "$\\newline$\n",
    "$\\newline$\n",
    "\n",
    "\n",
    "$\\color{black}{\\;\\;\\;\\;\\;\\;\\;\\;\\;\\;\\;\\;\\;\\;\\;\\;\\;\\;\\text{More formally, let }F_{p}\\text{ be a field of size }p > m\\text{, where }p\\text{ is a power of some prime. Consider a file that is cut into }k\\text{ symbols}}$\n",
    "\n",
    "\n",
    "<center>$\\color{black}{x = [x_{1}, \\; \\dots, \\; x_{k}],}$</center>\n",
    "\n",
    "\n",
    "$\\color{black}{\\;\\;\\;\\;\\;\\;\\;\\;\\;\\;\\;\\;\\;\\text{where each symbol is an element of the field }F_{p^{k+1}}\\text{. These k symbols are encoded into }n\\text{ coded symbols }y = [y_{1},\\;\\dots,\\;y_{n}]: }$\n",
    "\n",
    "\n",
    "<center>$\\color{black}{y \\; = \\; x \\cdot G}$</center>\n",
    "\n",
    "\n",
    "$\\color{black}{\\;\\;\\;\\;\\;\\;\\;\\;\\;\\;\\;\\;\\;\\text{where }G\\text{ is the }k \\times n\\text{ generator matrix, with elements over the field }F_{p^{k+1}}\\text{. The construction of }G\\text{ follows.}}$\n",
    "\n",
    "\n",
    "$\\newline$\n",
    "$\\newline$"
   ]
  },
  {
   "cell_type": "markdown",
   "id": "53b7906c-3244-4242-bd57-6bed440084e4",
   "metadata": {},
   "source": [
    "$\\newline$\n",
    "$\\newline$\n",
    "\n",
    "\n",
    "\n",
    "$\\color{black}{\\;\\;\\;\\;\\;\\;\\;\\;\\;\\;\\;\\;\\;\\;\\;\\;\\;\\;{\\bf{Construction:}}\\text{ Let }\\alpha_{1}, \\; \\dots , \\; \\alpha_{m}\\text{ be } m = \\frac{n \\cdot r}{r+1}\\text{ distinct elements of the field }F_{p}\\text{, with }p > m\\text{, and } \\omega \\text{ be a primitive element of the field }F_{p^{k+1}}\\text{. Also let }V\\text{ be a }k \\times m\\text{ Vandermonde matrix with its }i\\text{-th column being equal to}}$\n",
    "\n",
    "\n",
    "<center>$\\color{black}{\\overline{\\alpha}_{i} = (1, \\; \\alpha_{i}, \\; \\dots , \\; \\alpha_{i}^{k - 1})^{T}.}$</center>\n",
    "\n",
    "\n",
    "$\\color{black}{\\;\\;\\;\\;\\;\\;\\;\\;\\;\\;\\;\\;\\;\\text{Then, the generator matrix of the code is}}$\n",
    "\n",
    "\n",
    "<center>$\\color{black}{G = V \\cdot (I_{m/r} \\otimes A),}$</center>\n",
    "\n",
    "\n",
    "$\\color{black}{\\;\\;\\;\\;\\;\\;\\;\\;\\;\\;\\;\\;\\;\\text{where }I_{s}\\text{ is the identity matrix of size }s\\text{ and }A = (a_{i,j})\\text{ is an }r \\times (r + 1)\\text{ matrix defined as follows: it has }1_{s}\\text{ on the main diagonal, and }\\omega s\\text{ on the diagonal whose elements }\\alpha_{i,j}\\text{ satisfy }j - i = 1.}$\n",
    "\n",
    "\n",
    "$\\color{black}{\\;\\;\\;\\;\\;\\;\\;\\;\\;\\;\\;\\;\\;\\text{An example of an }(r = 3, \\; r + 1 = 4) \\; A\\text{ matrix is given below}}$\n",
    "\n",
    "\n",
    "<center>$\\bf{A} = \\begin{pmatrix}1 & \\omega & 0 & 0 \\\\0 & 1 & \\omega & 0\\\\0 & 0 & 1 & \\omega \\\\ \\end{pmatrix}$</center>\n",
    "\n",
    "\n",
    "$\\newline$\n",
    "$\\newline$"
   ]
  },
  {
   "cell_type": "markdown",
   "id": "c5687374-fb98-4010-a87d-01c35900465d",
   "metadata": {},
   "source": [
    "$\\newline$\n",
    "- - ${{\\bf{}\\;\\;\\color{purple}{\\bf{{Encoding \\; on \\; top \\; of \\; existing \\; Reed}\\text{-}{Solomon \\; stripes:}}}}}$\n",
    "\n",
    "  \n",
    "$\\newline$"
   ]
  },
  {
   "cell_type": "markdown",
   "id": "81a447a2-383b-43dc-8b28-60a4c8b3d605",
   "metadata": {},
   "source": [
    "$\\newline$\n",
    "$\\newline$\n",
    "\n",
    "\n",
    "$\\color{black}{\\;\\;\\;\\;\\;\\;\\;\\;\\;\\;\\;\\;\\;\\text{Construction above has a very important property: the coded symbols can be generated using Reed-Solomon coded symbols. This design flexibility of the presented codes comes in sharp contrast to other known}}$\n",
    "\n",
    "\n",
    "$\\color{black}{\\;\\;\\;\\;\\;\\;\\;\\;\\;\\;\\text{schemes, which requires decoding the entire already stored information; a process that can be cost-inefficient, when it comes to large-scale storage applications. In our case, when RS-symbols are already stored in a system,}}$\n",
    "\n",
    "\n",
    "$\\color{black}{\\;\\;\\;\\;\\;\\;\\;\\;\\;\\;\\text{the only coding overhead is in re-encoding groups of} r \\text{ RS-coded symbols, in }r+1\\text{ coded symbols, which can be done with complexity }O(n)\\text{, since }A\\text{ has at most }2\\text{ elements per row and column.}}$\n",
    "\n",
    "\n",
    "\n",
    "$\\newline$\n",
    "$\\newline$"
   ]
  },
  {
   "cell_type": "markdown",
   "id": "91a0286c-6a0f-4b0f-a46a-3a1269e4d553",
   "metadata": {},
   "source": [
    "$\\newline$\n",
    "$\\newline$\n",
    "\n",
    "\n",
    "$\\color{black}{\\;\\;\\;\\;\\;\\;\\;\\;\\;\\;\\;\\;\\;\\;\\text{Recall that the first step encoding of construction above uses RS encoded symbols over }F_{p^{k+1}}\\text{, where the evaluation points are taken from the sub-field }F_{p}\\text{: In other words, we evaluate a polynomial of }F_{p^{k+1}}[x]\\text{ at}}$\n",
    "\n",
    "\n",
    "$\\color{black}{\\;\\;\\;\\;\\;\\;\\;\\;\\;\\;\\text{ the points of the field }F_{p}\\text{. The following lemma shows that grouping together }k + 1\\text{ RS encoded symbols over }F_{p}\\text{ can be viewed as a single encoded RS symbol over }F_{p^{k+1}}\\text{. Hence, already encoded RS symbols over }F_{p}}$\n",
    "\n",
    "\n",
    "$\\color{black}{\\;\\;\\;\\;\\;\\;\\;\\;\\;\\;\\text{ can be used in the first encoding step, by a simple grouping, and the entire construction reduces to performing only the second step of the local encoding.}}$\n",
    "\n",
    "\n",
    "\n",
    "$\\newline$\n",
    "$\\newline$"
   ]
  },
  {
   "cell_type": "markdown",
   "id": "df2c734f-92d8-4848-a290-c51a3ebfb5ea",
   "metadata": {},
   "source": [
    "$\\newline$\n",
    "- - - ${{\\bf{}\\;\\;\\color{blue}{\\bf{{Lemma:}}}}}$\n",
    "      \n",
    "$\\newline$"
   ]
  },
  {
   "cell_type": "markdown",
   "id": "686919c7-2388-4adc-bb5d-4b710304f980",
   "metadata": {},
   "source": [
    "$\\newline$\n",
    "$\\newline$\n",
    "\n",
    "\n",
    "$\\color{black}{\\;\\;\\;\\;\\;\\;\\;\\;\\;\\;\\;\\;\\;\\;\\text{Each coded symbol of an }(m,\\;k)\\text{-RS code over }F_{p^{k+1}}\\text{ evaluated at points of the field }F_{p}\\text{ has an equivalent representation as a vector of }k + 1\\text{ coded symbols of an }(m, \\; k)\\text{-RS code over }F_{p}}$\n",
    "\n",
    "\n",
    "$\\newline$\n",
    "$\\newline$"
   ]
  },
  {
   "cell_type": "markdown",
   "id": "6801a5e9-a476-401c-af37-2fb25455ed6c",
   "metadata": {},
   "source": [
    "$\\newline$\n",
    "- - - - ${\\small{\\bf{}\\;\\;\\color{green}{\\bf{\\textit{Proof:}}}}}$\n",
    "      \n",
    "$\\newline$"
   ]
  },
  {
   "cell_type": "markdown",
   "id": "b3113316-16e6-4da9-b1b7-e696d3654892",
   "metadata": {},
   "source": [
    "$\\newline$\n",
    "$\\newline$\n",
    "\n",
    "\n",
    "$\\color{black}{\\;\\;\\;\\;\\;\\;\\;\\;\\;\\;\\;\\;\\;\\;\\;\\text{Let }\\beta = (\\beta_{0}, \\; \\dots , \\; \\beta_{k-1}) \\text{ be the information symbols to be encoded, where each }\\beta_{i} \\in F_{p^{k+1}} \\text{: Let }\\omega \\text{ be a primitive element of }F_{p^{k+1}} \\text{, then each symbol }\\beta_{i}\\text{ can be written as a polynomial in } \\omega \\text{ of degree at most }k}$\n",
    "\n",
    "\n",
    "$\\color{black}{\\;\\;\\;\\;\\;\\;\\;\\;\\;\\;\\text{ and coefficients from } F_{p} \\text{, namely}}$\n",
    "\n",
    "\n",
    "$\\newline$\n",
    "$\\newline$"
   ]
  },
  {
   "cell_type": "markdown",
   "id": "f79c00c6-b6e3-467f-a4b1-b77b96c65aa2",
   "metadata": {},
   "source": [
    "$\\newline$\n",
    "$\\newline$\n",
    "\n",
    "\n",
    "<center>$\\color{black}{\\beta_{i}\\; = \\; \\sum\\limits_{j=0}^{k} \\beta_{i,j} \\omega^{j}, \\text{ and } \\beta_{i,j} \\in \\mathbb{F}_{p}.}$</center>\n",
    "\n",
    "\n",
    "$\\newline$\n",
    "$\\newline$"
   ]
  },
  {
   "cell_type": "markdown",
   "id": "ae4ca075-7f85-4b1d-9902-b4fc6051940e",
   "metadata": {},
   "source": [
    "$\\newline$\n",
    "$\\newline$\n",
    "\n",
    "\n",
    "$\\color{black}{\\;\\;\\;\\;\\;\\;\\;\\;\\;\\; \\text{The RS symbol over }F_{p^{k+1}} \\text{ is simply the evaluation of the polynomial }f_{\\beta}(x) \\text{ defined as}}$\n",
    "\n",
    "\n",
    "$\\newline$\n",
    "$\\newline$"
   ]
  },
  {
   "cell_type": "markdown",
   "id": "a6aee515-691a-4a85-9595-55c785d9f311",
   "metadata": {},
   "source": [
    "$\\newline$\n",
    "$\\newline$\n",
    "\n",
    "\n",
    "<center>$\\color{black}{f_{\\beta}(x)\\; = \\; \\sum\\limits_{i=0}^{k-1} \\beta_{i} x^{i},}$</center>\n",
    "\n",
    "\n",
    "$\\newline$\n",
    "$\\newline$"
   ]
  },
  {
   "cell_type": "markdown",
   "id": "bfcb5d28-435e-46c8-981e-03283abda69d",
   "metadata": {},
   "source": [
    "$\\newline$\n",
    "$\\newline$\n",
    "\n",
    "\n",
    "$\\color{black}{\\;\\;\\;\\;\\;\\;\\;\\;\\;\\; \\text{at m distinct elements of the field }\\mathbb{F}_{p}\\text{. However}}$\n",
    "\n",
    "\n",
    "$\\newline$\n",
    "$\\newline$"
   ]
  },
  {
   "cell_type": "markdown",
   "id": "0151dbbb-0fe2-4c8e-9916-e9dcea9c78dd",
   "metadata": {},
   "source": [
    "$\\newline$\n",
    "$\\newline$\n",
    "\n",
    "\n",
    "<center>$\\color{black}{f_{\\beta}(x)\\;= \\; \\sum\\limits_{i=0}^{k-1} \\beta_{i} x^{i}\\; = \\; \\sum\\limits_{i=0}^{k-1} \\sum\\limits_{j=0}^{k} \\beta_{i,j} \\omega^{j} x^{i} \\; = \\sum\\limits_{j=0}^{k} \\omega^{j}g_{j}(x)}$</center>\n",
    "\n",
    "\n",
    "$\\newline$\n",
    "$\\newline$"
   ]
  },
  {
   "cell_type": "markdown",
   "id": "3db2b056-1f28-4c68-8b9e-95af16cf3610",
   "metadata": {},
   "source": [
    "$\\newline$\n",
    "$\\newline$\n",
    "\n",
    "\n",
    "$\\color{black}{\\;\\;\\;\\;\\;\\;\\;\\;\\;\\; \\text{where }g_{j}(x)\\text{ is a polynomial of degree at most }k-1 \\text{ over }\\mathbb{F}_{p}\\text{. Specifically for }\\alpha \\in \\mathbb{F}_{p}}$\n",
    "\n",
    "\n",
    "$\\newline$\n",
    "$\\newline$"
   ]
  },
  {
   "cell_type": "markdown",
   "id": "3a947160-4217-4953-94c5-d7e6736d212a",
   "metadata": {},
   "source": [
    "$\\newline$\n",
    "$\\newline$\n",
    "\n",
    "\n",
    "<center>$\\color{black}{f_{\\beta}(\\alpha)\\; = \\; \\sum\\limits_{i=0}^{k} \\omega^{j} g_{j}(\\alpha).}$</center>\n",
    "\n",
    "\n",
    "$\\newline$\n",
    "$\\newline$"
   ]
  },
  {
   "cell_type": "markdown",
   "id": "464fbb24-f894-4c3a-8643-e215e3b7d7f5",
   "metadata": {},
   "source": [
    "$\\newline$\n",
    "$\\newline$\n",
    "\n",
    "\n",
    "$\\color{black}{\\;\\;\\;\\;\\;\\;\\;\\;\\;\\;\\;\\;\\;\\text{In other words, the evaluation of }f_{\\beta}(x)\\text{ at the point }\\alpha \\in F_{p}\\text{ equals to the summation of }k + 1\\text{ summands and each summand is a product of some power of }\\omega \\text{ with an evaluation of a polynomial of degree}}$\n",
    "\n",
    "\n",
    "$\\color{black}{\\;\\;\\;\\;\\;\\;\\;\\;\\;\\;\\text{less than }k\\text{ over }F_{p}\\text{. Therefore, if }g_{j}(\\alpha) \\text{for }j = [0, \\; \\dots ,k]\\text{ are }k + 1\\text{ RS encoded symbols derived by evaluating }k + 1\\text{ polynomials }g_{j}(x)\\text{ over }F_{p}\\text{ at the point }\\alpha \\in F_{p}\\text{, then can be viewed as a one encoded RS symbol}}$\n",
    "\n",
    "\n",
    "$\\color{black}{\\;\\;\\;\\;\\;\\;\\;\\;\\;\\;\\text{over }F_{p^{k+1}}\\text{ evaluated at }\\alpha \\in F_{p}\\text{. This symbol can be represented as a vector of length }k + 1\\text{ over }F_{p}\\text{: this is done by a simple concatenation of the }k + 1\\text{ symbols into the vector } (g_{0}(\\alpha), \\; \\dots , \\; g_{k}(\\alpha)).}$\n",
    "\n",
    "\n",
    "$\\newline$\n",
    "$\\newline$"
   ]
  },
  {
   "cell_type": "markdown",
   "id": "8bb2792d-af38-403c-9c99-b0c39858d959",
   "metadata": {},
   "source": [
    "$\\newline$\n",
    "- - ${{\\bf{}\\;\\;\\color{purple}{\\bf{{Figure\\;6:}}}}}$\n",
    "\n",
    "  \n",
    "$\\newline$"
   ]
  },
  {
   "cell_type": "markdown",
   "id": "abf86b5c-9d93-49c0-a28c-47fab751698f",
   "metadata": {},
   "source": [
    "$\\newline$\n",
    "$\\newline$\n",
    "$\\newline$\n",
    "$\\newline$\n",
    "\n",
    "\n",
    "<center><img src='6.png' width=600 height=800></center>\n",
    "\n",
    "\n",
    "$\\newline$\n",
    "\n",
    "\n",
    "$${\\color{black}{{\\bf{Fig.\\;6: \\;}}\\color{black}{\\underline{{\\small{\\text{Example of a }(n = 9, k = 3, r = 2) \\text{-LRC using the construction mentioned above}\\;}}}}}}$$\n",
    "\n",
    "\n",
    "$\\newline$\n",
    "$\\newline$"
   ]
  },
  {
   "cell_type": "markdown",
   "id": "64fff66d-3e26-4b38-b133-e2d98b332173",
   "metadata": {},
   "source": [
    "$\\newline$\n",
    "- - - ${{\\bf{}\\;\\;\\color{blue}{\\bf{{Explainations:}}}}}$\n",
    "      \n",
    "$\\newline$"
   ]
  },
  {
   "cell_type": "markdown",
   "id": "552a2629-8022-4f40-aa6a-bf84eca6231a",
   "metadata": {},
   "source": [
    "$\\newline$\n",
    "$\\newline$\n",
    "\n",
    "\n",
    "$\\color{black}{\\;\\;\\;\\;\\;\\;\\;\\;\\;\\;\\;\\;\\;\\;\\;\\text{Assume that }k+1 = 4\\text{ stripes of RS-encoded data over }F_{2^{4}}\\text{ are stored in }6\\text{ nodes. Each node can be viewed as storing a single RS symbol over }F_{(2^{4})^{4}}.\\text{ The second step encoding partitions the symbols into pairs,}}$\n",
    "\n",
    "\n",
    "$\\color{black}{\\;\\;\\;\\;\\;\\;\\;\\;\\;\\;\\text{ and generates from any pair, }3\\text{ symbols over }F_{2^{16}}\\text{, to provide the locality property.}}$\n",
    "\n",
    "\n",
    "$\\newline$\n",
    "$\\newline$"
   ]
  },
  {
   "cell_type": "markdown",
   "id": "000dff75-7366-4893-a974-bd84af226777",
   "metadata": {},
   "source": [
    "$\\newline$\n",
    "$\\newline$\n",
    "\n",
    "\n",
    "$\\color{black}{\\;\\;\\;\\;\\;\\;\\;\\;\\;\\;\\;\\;\\;\\text{In Fig. 6, we give an example of a }(9, \\; 3, \\;2)\\text{-LRC. In the first step of the encoding, we evaluate the polynomial at }m = \\frac{n \\cdot r}{r+1} = 6\\text{ distinct points of the field }F_{p}\\text{, hence }p > 6\\text{. Assuming we would like to operate over}}$\n",
    "\n",
    "\n",
    "$\\color{black}{\\;\\;\\;\\;\\;\\;\\;\\;\\;\\;\\text{binary characteristics, we pick }p = 2^{4}\\text{ (note that also }p = 2^{3}\\text{ would suffice).}}$\n",
    "\n",
    "\n",
    "$\\newline$\n",
    "$\\newline$"
   ]
  },
  {
   "cell_type": "markdown",
   "id": "ff1bd329-0061-4b5c-b04f-112fc7af0baf",
   "metadata": {},
   "source": [
    "$\\newline$\n",
    "$\\newline$\n",
    "\n",
    "#### <a name=''>${\\large{\\bf{}\\;\\;\\color{blue}{\\bf{{\\text{References:}}}}}}$</a>\n",
    "\n",
    "\n",
    "$\\newline$\n",
    "$\\newline$"
   ]
  },
  {
   "cell_type": "markdown",
   "id": "be24bf3d-abe7-466a-9609-23d96a519f64",
   "metadata": {},
   "source": [
    "$\\newline$\n",
    "$\\newline$\n",
    "\n",
    "\n",
    "- <a name=''>[${{\\bf{}\\;\\;\\color{blue}{\\bf{\\underline{\\text{Locally Repairable Codes}}\\text{: published in 2012 IEEE}}}}}$](https://ieeexplore.ieee.org/abstract/document/6284027)</a>\n",
    "\n",
    "\n",
    "$\\newline$\n",
    "$\\newline$\n",
    "\n",
    "\n",
    "\n",
    "\n",
    "\n",
    "- <a name=''>[${{\\bf{}\\;\\;\\color{blue}{\\bf{\\underline{\\text{Locally Repairable Codes}}\\text{: published in 2014 IEEE}}}}}$](https://ieeexplore.ieee.org/abstract/document/6818438)</a>\n",
    "\n",
    "\n",
    "$\\newline$\n",
    "$\\newline$\n",
    "\n",
    "\n",
    "- <a name=''>[${{\\bf{}\\;\\;\\color{blue}{\\bf{\\underline{\\text{Good locally repairable codes via propagation rules}}\\text{:  in 2022 arXiv}}}}}$](https://arxiv.org/abs/2208.04484)</a>\n",
    "\n",
    "\n",
    "$\\newline$\n",
    "$\\newline$\n",
    "\n",
    "\n",
    "- <a name=''>[${{\\bf{}\\;\\;\\color{blue}{\\bf{\\underline{\\text{Optimal Locally Repairable Codes and Connections to Matroid Theory}}\\text{: published in 2016 IEEE}}}}}$](https://ieeexplore.ieee.org/abstract/document/7456275)</a>\n",
    "\n",
    "\n",
    "$\\newline$\n",
    "$\\newline$\n",
    "\n",
    "\n",
    "- <a name=''>[${{\\bf{}\\;\\;\\color{blue}{\\bf{\\underline{\\text{Construction of Binary Locally Repairable Codes With Optimal Distance and Code Rate}}\\text{: published in 2021 IEEE}}}}}$](https://ieeexplore.ieee.org/document/9415631)</a>\n",
    "\n",
    "\n",
    "$\\newline$\n",
    "$\\newline$\n",
    "\n",
    "\n",
    "\n",
    "- <a name=''>[${{\\bf{}\\;\\;\\color{blue}{\\bf{\\underline{\\text{Bounds and Constructions of Singleton-Optimal Locally Repairable Codes with Small Localities}}\\text{: published in 2022 arXiv}}}}}$](https://arxiv.org/abs/2207.05479)</a>\n",
    "\n",
    "\n",
    "$\\newline$\n",
    "$\\newline$"
   ]
  }
 ],
 "metadata": {
  "kernelspec": {
   "display_name": "Python 3 (ipykernel)",
   "language": "python",
   "name": "python3"
  },
  "language_info": {
   "codemirror_mode": {
    "name": "ipython",
    "version": 3
   },
   "file_extension": ".py",
   "mimetype": "text/x-python",
   "name": "python",
   "nbconvert_exporter": "python",
   "pygments_lexer": "ipython3",
   "version": "3.11.3"
  }
 },
 "nbformat": 4,
 "nbformat_minor": 5
}
